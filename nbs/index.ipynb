{
 "cells": [
  {
   "cell_type": "code",
   "execution_count": null,
   "metadata": {},
   "outputs": [],
   "source": [
    "#hide\n",
    "from fastai.basics import *"
   ]
  },
  {
   "cell_type": "markdown",
   "metadata": {},
   "source": [
    "# The fastai book\n",
    "\n",
    "> How to get started with the fastai book."
   ]
  },
  {
   "cell_type": "markdown",
   "metadata": {},
   "source": [
    "This information is for readers of the Early Access version of [Deep Learning for Coders with fastai and PyTorch](https://www.amazon.com/Deep-Learning-Coders-fastai-PyTorch/dp/1492045527) and of the fastai [draft notebooks](https://github.com/fastai/fastbook).\n",
    "\n",
    "Note that these require you to use fastai v2, which is currently in pre-release. During pre-release, this module is called `fastai`. The draft notebooks contain the correct imports for `fastai`, but the PDF book does not - it uses `fastai`. Therefore, you should change `fastai` to `fastai` in all import statements."
   ]
  },
  {
   "cell_type": "markdown",
   "metadata": {},
   "source": [
    "## Install"
   ]
  },
  {
   "cell_type": "markdown",
   "metadata": {},
   "source": [
    "Clone the [draft notebooks repo](https://github.com/fastai/fastbook), and then from that directory:\n",
    "\n",
    "    pip install -r requirements.txt\n",
    "\n",
    "It is best to first install fastai v1 to ensure you have all the correct dependencies. See [the docs](https://docs.fast.ai/) for details."
   ]
  },
  {
   "cell_type": "markdown",
   "metadata": {},
   "source": [
    "## How to use"
   ]
  },
  {
   "cell_type": "markdown",
   "metadata": {},
   "source": [
    "To get started, run Jupyter Notebook (or use one of the online Jupyter platforms listed at https://course.fast.ai) and click on the *app_jupyter.ipynb* notebook.\n",
    "\n",
    "We'll be adding more information to this site as the official book release in July 2020 gets closer."
   ]
  },
  {
   "cell_type": "code",
   "execution_count": null,
   "metadata": {},
   "outputs": [],
   "source": []
  }
 ],
 "metadata": {
  "kernelspec": {
   "display_name": "Python 3",
   "language": "python",
   "name": "python3"
  }
 },
 "nbformat": 4,
 "nbformat_minor": 2
}
